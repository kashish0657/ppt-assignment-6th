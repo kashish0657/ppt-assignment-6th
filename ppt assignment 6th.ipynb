{
 "cells": [
  {
   "cell_type": "markdown",
   "id": "eb4d613d-81cf-4663-9ed6-30cba8a21e89",
   "metadata": {},
   "source": [
    "## PPT ASSIGNMENT 6th"
   ]
  },
  {
   "cell_type": "markdown",
   "id": "14a273cf-e4e0-42ca-9f3f-3f52152e5815",
   "metadata": {},
   "source": [
    "## 1:ans:-"
   ]
  },
  {
   "cell_type": "code",
   "execution_count": 2,
   "id": "647b9ba1-98ce-4511-baff-f390bb1ad60b",
   "metadata": {},
   "outputs": [],
   "source": [
    "def reconstruct_permutation(s):\n",
    "    n = len(s)\n",
    "    perm = []\n",
    "    low, high = 0, n\n",
    "\n",
    "    for ch in s:\n",
    "        if ch == 'I':\n",
    "            perm.append(low)\n",
    "            low += 1\n",
    "        elif ch == 'D':\n",
    "            perm.append(high)\n",
    "            high -= 1\n",
    "\n",
    "    # Append the last remaining number to perm\n",
    "    perm.append(low)\n",
    "\n",
    "    return perm\n"
   ]
  },
  {
   "cell_type": "markdown",
   "id": "6b50474d-e394-44f3-80ac-e01cef359b30",
   "metadata": {},
   "source": [
    "## 2:ans:-"
   ]
  },
  {
   "cell_type": "code",
   "execution_count": 3,
   "id": "7a6967f9-a955-4f1b-9d5a-5bab010451b3",
   "metadata": {},
   "outputs": [],
   "source": [
    "def searchMatrix(matrix, target):\n",
    "    if not matrix or not matrix[0]:\n",
    "        return False\n",
    "\n",
    "    rows = len(matrix)\n",
    "    cols = len(matrix[0])\n",
    "    row, col = 0, cols - 1\n",
    "\n",
    "    while row < rows and col >= 0:\n",
    "        if matrix[row][col] == target:\n",
    "            return True\n",
    "        elif matrix[row][col] < target:\n",
    "            row += 1\n",
    "        else:\n",
    "            col -= 1\n",
    "\n",
    "    return False\n"
   ]
  },
  {
   "cell_type": "markdown",
   "id": "74c3efa8-ff08-4d18-8924-3afee694039c",
   "metadata": {},
   "source": [
    "## 3:ans:-"
   ]
  },
  {
   "cell_type": "code",
   "execution_count": 4,
   "id": "ca5712be-3cea-457b-8248-af9ee51fa436",
   "metadata": {},
   "outputs": [],
   "source": [
    "def valid_mountain_array(arr):\n",
    "    if len(arr) < 3:\n",
    "        return False\n",
    "\n",
    "    i = 0\n",
    "    while i < len(arr) - 1 and arr[i] < arr[i + 1]:\n",
    "        i += 1\n",
    "\n",
    "    if i == 0 or i == len(arr) - 1:\n",
    "        return False\n",
    "\n",
    "    while i < len(arr) - 1 and arr[i] > arr[i + 1]:\n",
    "        i += 1\n",
    "\n",
    "    return i == len(arr) - 1\n"
   ]
  },
  {
   "cell_type": "code",
   "execution_count": 5,
   "id": "ff22aca6-dd8f-4984-9244-591022333969",
   "metadata": {},
   "outputs": [
    {
     "name": "stdout",
     "output_type": "stream",
     "text": [
      "True\n"
     ]
    }
   ],
   "source": [
    "# Example usage:\n",
    "arr = [0, 2, 3, 4, 5, 2, 1]\n",
    "print(valid_mountain_array(arr))  # Output: True"
   ]
  },
  {
   "cell_type": "markdown",
   "id": "b66f702b-67c0-45e5-a24f-233faf9767c3",
   "metadata": {},
   "source": [
    "## 4:ans:-"
   ]
  },
  {
   "cell_type": "code",
   "execution_count": 6,
   "id": "c0039b5d-f3d8-49a1-9e5a-d02f17998989",
   "metadata": {},
   "outputs": [],
   "source": [
    "def findMaxLength(nums):\n",
    "    countMap = {0: -1}\n",
    "    maxLen = 0\n",
    "    count = 0\n",
    "\n",
    "    for i in range(len(nums)):\n",
    "        if nums[i] == 0:\n",
    "            count -= 1\n",
    "        else:\n",
    "            count += 1\n",
    "\n",
    "        if count in countMap:\n",
    "            currLen = i - countMap[count]\n",
    "            maxLen = max(maxLen, currLen)\n",
    "        else:\n",
    "            countMap[count] = i\n",
    "\n",
    "    return maxLen\n"
   ]
  },
  {
   "cell_type": "markdown",
   "id": "0ff2c575-fb7f-4168-a7e9-3a727b87578a",
   "metadata": {},
   "source": [
    "## 5:ans:-"
   ]
  },
  {
   "cell_type": "code",
   "execution_count": 7,
   "id": "d8951ad1-023c-4994-b07b-631a8de8b732",
   "metadata": {},
   "outputs": [],
   "source": [
    "def minProductSum(nums1, nums2):\n",
    "    nums1.sort()  # Sort nums1 in ascending order\n",
    "    nums2.sort()  # Sort nums2 in ascending order\n",
    "\n",
    "    productSum = 0\n",
    "    n = len(nums1)\n",
    "    for i in range(n):\n",
    "        productSum += nums1[i] * nums2[n - i - 1]\n",
    "\n",
    "    return productSum\n"
   ]
  },
  {
   "cell_type": "code",
   "execution_count": 8,
   "id": "485b1c8c-2555-4f40-b6cd-2d102318079f",
   "metadata": {},
   "outputs": [
    {
     "name": "stdout",
     "output_type": "stream",
     "text": [
      "21\n"
     ]
    }
   ],
   "source": [
    "nums1 = [1, 2, 3, 4]\n",
    "nums2 = [5, 2, 3, 1]\n",
    "result = minProductSum(nums1, nums2)\n",
    "print(result)  \n"
   ]
  },
  {
   "cell_type": "markdown",
   "id": "6dfeeab9-3130-4435-80f4-9df4c62bac95",
   "metadata": {},
   "source": [
    "## 6:ans:-"
   ]
  },
  {
   "cell_type": "code",
   "execution_count": 11,
   "id": "1c7d6c94-6f25-4a85-9a1b-a1ecefc08272",
   "metadata": {},
   "outputs": [],
   "source": [
    "from collections import defaultdict\n",
    "\n",
    "def find_original_array(changed):\n",
    "    count = defaultdict(int)\n",
    "\n",
    "    for num in changed:\n",
    "        count[num] += 1\n",
    "\n",
    "    original = []\n",
    "\n",
    "    for num in changed:\n",
    "        if count[num] == 0 or count[num // 2] == 0:\n",
    "            return []\n",
    "        count[num] -= 1\n",
    "        count[num // 2] -= 1\n",
    "\n",
    "    for num, count_val in count.items():\n",
    "        original.extend([num] * count_val)\n",
    "\n",
    "    return original\n"
   ]
  },
  {
   "cell_type": "code",
   "execution_count": 12,
   "id": "f84ac89a-4fbf-4589-b6a6-828f68b8ca53",
   "metadata": {},
   "outputs": [
    {
     "name": "stdout",
     "output_type": "stream",
     "text": [
      "[]\n"
     ]
    }
   ],
   "source": [
    "changed = [1, 3, 2, 6, 4, 12]\n",
    "original = find_original_array(changed)\n",
    "print(original)\n"
   ]
  },
  {
   "cell_type": "markdown",
   "id": "16ca0d68-1252-472b-9597-d28820d8f915",
   "metadata": {},
   "source": [
    "## 7:ans:-"
   ]
  },
  {
   "cell_type": "code",
   "execution_count": 13,
   "id": "16ab44df-edb7-48f9-a266-43ef5fdd52ad",
   "metadata": {},
   "outputs": [],
   "source": [
    "def generate_spiral_matrix(n):\n",
    "    matrix = [[0] * n for _ in range(n)]\n",
    "    value = 1\n",
    "    top, bottom, left, right = 0, n - 1, 0, n - 1\n",
    "    direction = 0  # 0: right, 1: down, 2: left, 3: up\n",
    "\n",
    "    while value <= n ** 2:\n",
    "        if direction == 0:  # right\n",
    "            for i in range(left, right + 1):\n",
    "                matrix[top][i] = value\n",
    "                value += 1\n",
    "            top += 1\n",
    "\n",
    "        elif direction == 1:  # down\n",
    "            for i in range(top, bottom + 1):\n",
    "                matrix[i][right] = value\n",
    "                value += 1\n",
    "            right -= 1\n",
    "\n",
    "        elif direction == 2:  # left\n",
    "            for i in range(right, left - 1, -1):\n",
    "                matrix[bottom][i] = value\n",
    "                value += 1\n",
    "            bottom -= 1\n",
    "\n",
    "        elif direction == 3:  # up\n",
    "            for i in range(bottom, top - 1, -1):\n",
    "                matrix[i][left] = value\n",
    "                value += 1\n",
    "            left += 1\n",
    "\n",
    "        direction = (direction + 1) % 4\n",
    "\n",
    "    return matrix\n"
   ]
  },
  {
   "cell_type": "markdown",
   "id": "93d855c4-b012-4372-90fb-713d9669b39a",
   "metadata": {},
   "source": [
    "## 8:ans:-"
   ]
  },
  {
   "cell_type": "code",
   "execution_count": 14,
   "id": "bc40a62b-c323-4e38-af70-21cf86cb11b7",
   "metadata": {},
   "outputs": [],
   "source": [
    "def multiply_sparse_matrices(mat1, mat2):\n",
    "    m, k = len(mat1), len(mat1[0])\n",
    "    k2, n = len(mat2), len(mat2[0])\n",
    "\n",
    "    result = [[0] * n for _ in range(m)]\n",
    "\n",
    "    # Create a dictionary to store the non-zero elements of mat2\n",
    "    mat2_dict = {}\n",
    "    for i in range(k2):\n",
    "        for j in range(n):\n",
    "            if mat2[i][j] != 0:\n",
    "                if j not in mat2_dict:\n",
    "                    mat2_dict[j] = {}\n",
    "                mat2_dict[j][i] = mat2[i][j]\n",
    "\n",
    "    # Perform matrix multiplication\n",
    "    for i in range(m):\n",
    "        for j in range(n):\n",
    "            dot_product = 0\n",
    "            if j in mat2_dict:\n",
    "                for idx, value in mat2_dict[j].items():\n",
    "                    dot_product += mat1[i][idx] * value\n",
    "            result[i][j] = dot_product\n",
    "\n",
    "    return result\n"
   ]
  },
  {
   "cell_type": "code",
   "execution_count": 15,
   "id": "8a683afd-d80c-437a-9e9a-eafb561177aa",
   "metadata": {},
   "outputs": [
    {
     "name": "stdout",
     "output_type": "stream",
     "text": [
      "[[1, 0], [6, 0]]\n"
     ]
    }
   ],
   "source": [
    "mat1 = [[1, 0, 0], [0, 0, 2]]\n",
    "mat2 = [[1, 0], [0, 2], [3, 0]]\n",
    "result = multiply_sparse_matrices(mat1, mat2)\n",
    "print(result)\n"
   ]
  },
  {
   "cell_type": "code",
   "execution_count": null,
   "id": "dc2b8f03-b7aa-4684-a416-ed2dccbdae46",
   "metadata": {},
   "outputs": [],
   "source": []
  },
  {
   "cell_type": "code",
   "execution_count": null,
   "id": "83e25b70-ee07-408c-be21-be5f3146d850",
   "metadata": {},
   "outputs": [],
   "source": []
  },
  {
   "cell_type": "code",
   "execution_count": null,
   "id": "c75fbe73-cb9c-4e6a-876f-af8b66ad2490",
   "metadata": {},
   "outputs": [],
   "source": []
  },
  {
   "cell_type": "code",
   "execution_count": null,
   "id": "a4ab0051-4e2f-45f5-b87b-9fd3d65d8351",
   "metadata": {},
   "outputs": [],
   "source": []
  },
  {
   "cell_type": "code",
   "execution_count": null,
   "id": "1d5b5895-8cfb-4b8c-8f10-c09b29420074",
   "metadata": {},
   "outputs": [],
   "source": []
  }
 ],
 "metadata": {
  "kernelspec": {
   "display_name": "Python 3 (ipykernel)",
   "language": "python",
   "name": "python3"
  },
  "language_info": {
   "codemirror_mode": {
    "name": "ipython",
    "version": 3
   },
   "file_extension": ".py",
   "mimetype": "text/x-python",
   "name": "python",
   "nbconvert_exporter": "python",
   "pygments_lexer": "ipython3",
   "version": "3.10.8"
  }
 },
 "nbformat": 4,
 "nbformat_minor": 5
}
